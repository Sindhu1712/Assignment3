{
 "cells": [
  {
   "cell_type": "code",
   "execution_count": 1,
   "id": "b8c9164c",
   "metadata": {},
   "outputs": [
    {
     "name": "stdout",
     "output_type": "stream",
     "text": [
      "Calling FulltimeEmployee member function.\n",
      "Average salary: 163000.0\n"
     ]
    }
   ],
   "source": [
    "# Created Employee class with name, family, salary and department\n",
    "class Employee:\n",
    "\n",
    "    # declared a data member to count the number of Employees\n",
    "    no_of_employees = 0\n",
    "\n",
    "    # constructor to initialize the object's attributes\n",
    "    def __init__(self, name, family_name, salary, department):\n",
    "        self.__name = name\n",
    "        self.__family_name = family_name\n",
    "        self.salary = salary\n",
    "        self.__department = department\n",
    "        Employee.no_of_employees += 1\n",
    "\n",
    "    # declared average_salary function to return average salary \n",
    "    def average_salary(employees):\n",
    "        \"\"\"\n",
    "        function to average salary\n",
    "        \"\"\"\n",
    "        sum = 0\n",
    "        for employee in employees:\n",
    "            sum += employee.salary\n",
    "        return sum / Employee.no_of_employees\n",
    "\n",
    "# Created a Fulltime Employee class and inherited the properties of Employee class\n",
    "class FulltimeEmployee(Employee):\n",
    "    \"\"\"\n",
    "    Full Time Employee is a sub class of Employee\n",
    "    \"\"\"\n",
    "\n",
    "    def __init__(self, name, family_name, salary, department):\n",
    "        super().__init__(name, family_name, salary, department)\n",
    "\n",
    "    def full_time_member(self):\n",
    "        print(\"Calling FulltimeEmployee member function.\")\n",
    "\n",
    "# Created the instances of Fulltime Employee class and Employee class and calling their member functions.\n",
    "def main():\n",
    "    employees = []\n",
    "    ftEmployee1 = FulltimeEmployee(\"Vamshi\", \"Ponugoti\", 140000, \"Software Engineering\")\n",
    "    ftEmployee1.full_time_member()\n",
    "    employees.append(ftEmployee1)\n",
    "    ftEmployee2 = FulltimeEmployee(\"Micheal\", \"Velayudham\", 170000, \"Cyber Security\")\n",
    "    employees.append(ftEmployee2)\n",
    "    employee1 = Employee(\"CoseC\", \"Pacchipulsula\", 150000, \"Testing\")\n",
    "    employees.append(employee1)\n",
    "    employee2 = Employee(\"VeeraSimhaReddy\", \"Nandamuri\", 192000, \"Product Manager\")\n",
    "    employees.append(employee2)\n",
    "    print(\"Average salary:\", FulltimeEmployee.average_salary(employees))\n",
    "\n",
    "# declared this method to execute code When the file runs as a script.\n",
    "if __name__ == \"__main__\":\n",
    "    main()"
   ]
  },
  {
   "cell_type": "code",
   "execution_count": 2,
   "id": "a92fe54c",
   "metadata": {},
   "outputs": [
    {
     "name": "stdout",
     "output_type": "stream",
     "text": [
      "[ 6.85541628  3.80620957 15.82508416  8.3762963   2.29268211  6.50680021\n",
      "  9.48476625  9.9824519   7.08967285  7.05734926  7.21872541 10.89128492\n",
      " 13.23194822 13.62954628  8.34796247 10.36043568 19.54528657 14.15484149\n",
      " 16.90458555 13.1043    ]\n",
      "[[ 6.85541628  3.80620957 15.82508416  8.3762963   2.29268211]\n",
      " [ 6.50680021  9.48476625  9.9824519   7.08967285  7.05734926]\n",
      " [ 7.21872541 10.89128492 13.23194822 13.62954628  8.34796247]\n",
      " [10.36043568 19.54528657 14.15484149 16.90458555 13.1043    ]]\n",
      "[[ 6.85541628  3.80620957  0.          8.3762963   2.29268211]\n",
      " [ 6.50680021  9.48476625  0.          7.08967285  7.05734926]\n",
      " [ 7.21872541 10.89128492 13.23194822  0.          8.34796247]\n",
      " [10.36043568  0.         14.15484149 16.90458555 13.1043    ]]\n"
     ]
    }
   ],
   "source": [
    "import numpy as np\n",
    "import numpy as np\n",
    "# created a random vector of size 20 with float values between 1 and 20\n",
    "ranvec = np.random.uniform(low=1, high=20, size=20)\n",
    "print(ranvec)\n",
    "# reshape the array to 4 by 5 using reshape method\n",
    "mat45 = ranvec.reshape(4, 5)\n",
    "print(mat45)\n",
    "# replace the max in each row by 0 using where method\n",
    "mat45 = np.where(mat45 == np.amax(mat45, axis=1, keepdims=True), 0, mat45)\n",
    "print(mat45)"
   ]
  },
  {
   "cell_type": "code",
   "execution_count": null,
   "id": "0c166839",
   "metadata": {},
   "outputs": [],
   "source": []
  }
 ],
 "metadata": {
  "kernelspec": {
   "display_name": "Python 3 (ipykernel)",
   "language": "python",
   "name": "python3"
  },
  "language_info": {
   "codemirror_mode": {
    "name": "ipython",
    "version": 3
   },
   "file_extension": ".py",
   "mimetype": "text/x-python",
   "name": "python",
   "nbconvert_exporter": "python",
   "pygments_lexer": "ipython3",
   "version": "3.9.12"
  }
 },
 "nbformat": 4,
 "nbformat_minor": 5
}
